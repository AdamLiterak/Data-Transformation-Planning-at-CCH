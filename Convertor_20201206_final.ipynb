{
 "cells": [
  {
   "cell_type": "markdown",
   "metadata": {},
   "source": [
    "## Data convertor for Revenue and Marketing planning\n",
    "Data convertor loads the data from the simulation files and transforms them into files that can be loaded directly to the Revenue Planning and Marketing planning systems"
   ]
  },
  {
   "cell_type": "code",
   "execution_count": 55,
   "metadata": {},
   "outputs": [],
   "source": [
    "import pandas as pd\n",
    "import numpy as np\n",
    "import xlrd\n",
    "pd.options.mode.chained_assignment = None  # default='warn' #to switch the wornings off\n",
    "\n",
    "#PATHS to the files\n",
    "path_sf_off_premise = \"B004_OFF_PREMISE_SIM_FILE_20201207.xlsx\"\n",
    "path_sf_on_premise = \"B004_ON_PREMISE_SIM_20201204.xlsx\"\n",
    "path_lookup_file = \"lookup_B001.xlsx\" #is still needed?? - could be possibly replaced by the lookup inside of the sf file? transfer of responsibility\n",
    "\n",
    "months = 12 #fill the number of months that are planned exmpl: RE 9+3 --> 3 months\n",
    "year = \"BP 2021\" #fill as in Simulation file, data filtered by this value / Version later\n",
    "cz = \"18\" #starting numbers in CPLs / country split done based on this\n",
    "sk = \"19\" #starting numbers in CPLs / country split done based on this\n",
    "\n",
    "#Dictionary\n",
    "conditions = {\"on_invoice\":\"YAA%\", \"not_assigned\":\"#\", \"promo_leaflet\":\"ZEFQ\", \"promo\":\"ZBCQ\", \"1.75\":\"062\"}"
   ]
  },
  {
   "cell_type": "markdown",
   "metadata": {},
   "source": [
    "### Files load into Pandas\n",
    "Code loads the data from the simulation files for further transformation\n",
    "\n",
    "Excel files MUST be CLOSED in order for the next code to work!"
   ]
  },
  {
   "cell_type": "code",
   "execution_count": 56,
   "metadata": {},
   "outputs": [],
   "source": [
    "#ON INVOICE data\n",
    "on_invoice_data_OFP = pd.read_excel(path_sf_off_premise, sheet_name=\"Pivot_Adam\", usecols=\"A:G,AF:AQ\", skiprows=2, convertors={4:(lambda x: str(x)),1:str,2:str,3:str,5:(lambda x: str(x)),6:str})\n",
    "on_invoice_data_ONP = pd.read_excel(path_sf_on_premise, sheet_name=\"Pivot_Adam\", usecols=\"A:S\", skiprows=2)\n",
    "\n",
    "#OFF INVOICE data\n",
    "off_invoice_data_OFP = pd.read_excel(path_sf_off_premise, sheet_name=\"Off inv dis\", usecols=\"D,F,H:AE\", skiprows=0)\n",
    "off_invoice_data_ONP = pd.read_excel(path_sf_on_premise, sheet_name=\"Off inv. Disc.\", usecols=\"H,J,L:AI\", skiprows=0)\n",
    "\n",
    "#PROMO DATA\n",
    "promo_data_OFP = pd.read_excel(path_sf_off_premise, sheet_name=\"Pivot_Adam\", usecols=\"A:AE\", skiprows=2)\n",
    "promo_ls = pd.read_excel(path_sf_off_premise, sheet_name=\"data\", usecols=\"B,E,J:O,BT:CE\", skiprows=90)\n",
    "\n",
    "#LOOKUP DATA\n",
    "lookup_data = pd.read_excel(path_lookup_file, sheet_name=\"lookup\", usecols=\"A:R\")"
   ]
  },
  {
   "cell_type": "markdown",
   "metadata": {},
   "source": [
    "### Functions used"
   ]
  },
  {
   "cell_type": "code",
   "execution_count": 57,
   "metadata": {},
   "outputs": [],
   "source": [
    "#fce adjusting the data loaded - excel load loads strings as numbers and ommits zeros in the beginning of the key\n",
    "def adjust(x):\n",
    "    if pd.isnull(x):\n",
    "        return x\n",
    "    elif len(str(int(float(x)))) < 3:\n",
    "        return (3-len(str(int(float(x))))) * \"0\" + str(int(float(x)))\n",
    "    else:\n",
    "        return str(int(float(x)))"
   ]
  },
  {
   "cell_type": "markdown",
   "metadata": {},
   "source": [
    "### On invoice Discount Transformation\n",
    "\n",
    "Following contains data transformation into an excel file that can be loaded into the system for the condition planning in Revenue Planning System"
   ]
  },
  {
   "cell_type": "code",
   "execution_count": 58,
   "metadata": {},
   "outputs": [],
   "source": [
    "#on invoice off premise data preparation\n",
    "on_invoice_data_OFP.columns = [\"cpl_no\",\"pack_type_no\",\"pack_size_no\",\"sales_unit_no\",\"item_category_no\",\"brand_no\",\"flavor_no\", \"1\", \"2\", \"3\", \"4\", \"5\", \"6\", \"7\", \"8\", \"9\", \"10\", \"11\", \"12\"]\n",
    "on_invoice_data_OFP[\"condition\"] = conditions[\"on_invoice\"]\n",
    "on_invoice_data_OFP[[\"1\", \"2\", \"3\", \"4\", \"5\", \"6\", \"7\", \"8\", \"9\", \"10\", \"11\", \"12\"]] = round(on_invoice_data_OFP[[\"1\", \"2\", \"3\", \"4\", \"5\", \"6\", \"7\", \"8\", \"9\", \"10\", \"11\", \"12\"]]*100,2)\n",
    "on_invoice_data_OFP = on_invoice_data_OFP[[\"cpl_no\",\"condition\",\"pack_type_no\",\"pack_size_no\",\"sales_unit_no\",\"item_category_no\",\"brand_no\",\"flavor_no\", \"1\", \"2\", \"3\", \"4\", \"5\", \"6\", \"7\", \"8\", \"9\", \"10\", \"11\", \"12\"]]"
   ]
  },
  {
   "cell_type": "code",
   "execution_count": 59,
   "metadata": {},
   "outputs": [],
   "source": [
    "#on invoice on premise data preparation - Correct column names, percentages multiplied by 100, correct condition added, rearranging the columns in a right order\n",
    "on_invoice_data_ONP.columns = [\"cpl_no\",\"pack_type_no\",\"pack_size_no\",\"sales_unit_no\",\"item_category_no\",\"brand_no\",\"flavor_no\", \"1\", \"2\", \"3\", \"4\", \"5\", \"6\", \"7\", \"8\", \"9\", \"10\", \"11\", \"12\"]\n",
    "on_invoice_data_ONP[\"condition\"] = conditions[\"on_invoice\"]\n",
    "on_invoice_data_ONP[[\"1\", \"2\", \"3\", \"4\", \"5\", \"6\", \"7\", \"8\", \"9\", \"10\", \"11\", \"12\"]] = round(on_invoice_data_ONP[[\"1\", \"2\", \"3\", \"4\", \"5\", \"6\", \"7\", \"8\", \"9\", \"10\", \"11\", \"12\"]]*100,2)\n",
    "on_invoice_data_ONP = on_invoice_data_ONP[[\"cpl_no\",\"condition\",\"pack_type_no\",\"pack_size_no\",\"sales_unit_no\",\"item_category_no\",\"brand_no\",\"flavor_no\", \"1\", \"2\", \"3\", \"4\", \"5\", \"6\", \"7\", \"8\", \"9\", \"10\", \"11\", \"12\"]]"
   ]
  },
  {
   "cell_type": "code",
   "execution_count": 60,
   "metadata": {},
   "outputs": [],
   "source": [
    "#Adding OFPremise and ONPremise data together for the further wrangling\n",
    "on_invoice_data = pd.concat([on_invoice_data_OFP,on_invoice_data_ONP],axis=0,ignore_index=True)\n"
   ]
  },
  {
   "cell_type": "code",
   "execution_count": 61,
   "metadata": {},
   "outputs": [],
   "source": [
    "#Prolly unnecessary - should be correct in an excel file\n",
    "#on_invoice_codes[\"item_category_no\"] = on_invoice_codes[\"item_category_no\"].fillna(0).astype(int)\n",
    "#on_invoice_codes[\"cpl_no\"] = on_invoice_codes.cpl_no.astype(int)\n",
    "\n",
    "#Flavor je # if not spirit, spirits left alone / already in the lookup\n",
    "#replacing \"#\"\" with nan, so that its empty in final file\n",
    "on_invoice_data[\"flavor_no\"] = on_invoice_data.flavor_no.replace(\"#\",np.nan)\n",
    "\n",
    "#dropping months I dont need\n",
    "on_invoice_months = on_invoice_data.iloc[:,np.r_[0:8,(len(on_invoice_data.columns)-months):len(on_invoice_data.columns)]]\n",
    "# puvodni on_invoice_months = on_invoice_data_OFP.iloc[:,np.r_[0:8,(len(on_invoice_data.columns)-months):len(on_invoice_data.columns)]]\n",
    "\n",
    "#Dropping row where values in all planned months are zeros\n",
    "on_invoice_zeros = on_invoice_months[(on_invoice_months.iloc[:,(-1*months):-1].sum(axis=1))>0]\n",
    "\n",
    "#DROPPING DUPLICATES - all columns duplicated\n",
    "on_invoice_duplicates = on_invoice_zeros.drop_duplicates(subset=on_invoice_zeros.columns, keep=\"first\")\n",
    "on_invoice_final = on_invoice_duplicates\n"
   ]
  },
  {
   "cell_type": "markdown",
   "metadata": {},
   "source": [
    "### OFF INVOICE Discount Transformation\n",
    "\n",
    "Following contains data transformation into an excel file that can be loaded into the system for the condition planning in Revenue Planning System"
   ]
  },
  {
   "cell_type": "code",
   "execution_count": 62,
   "metadata": {},
   "outputs": [],
   "source": [
    "#OFF PREMISE renaming columns, rounding %\n",
    "off_invoice_data_OFP.columns = [\"cpl_no\",\"condition\",\"item_category_no\",\"item_category\",\"brand_no\",\"brand\",\"flavor_no\",\"flavor\",\"pack_type_no\",\"pack_type\",\"pack_size_no\",\"pack_size\",\"sales_unit_no\",\"sales_unit\",\"1\", \"2\", \"3\", \"4\", \"5\", \"6\", \"7\", \"8\", \"9\", \"10\", \"11\", \"12\"]\n",
    "off_invoice_data_OFP[[\"1\", \"2\", \"3\", \"4\", \"5\", \"6\", \"7\", \"8\", \"9\", \"10\", \"11\", \"12\"]] = round(off_invoice_data_OFP[[\"1\", \"2\", \"3\", \"4\", \"5\", \"6\", \"7\", \"8\", \"9\", \"10\", \"11\", \"12\"]],2)\n",
    "\n",
    "#ON PREMISE renaming columns, rounding %\n",
    "off_invoice_data_ONP.columns = [\"cpl_no\",\"condition\",\"item_category_no\",\"item_category\",\"brand_no\",\"brand\",\"flavor_no\",\"flavor\",\"pack_type_no\",\"pack_type\",\"pack_size_no\",\"pack_size\",\"sales_unit_no\",\"sales_unit\",\"1\", \"2\", \"3\", \"4\", \"5\", \"6\", \"7\", \"8\", \"9\", \"10\", \"11\", \"12\"]\n",
    "off_invoice_data_ONP[[\"1\", \"2\", \"3\", \"4\", \"5\", \"6\", \"7\", \"8\", \"9\", \"10\", \"11\", \"12\"]] = round(off_invoice_data_ONP[[\"1\", \"2\", \"3\", \"4\", \"5\", \"6\", \"7\", \"8\", \"9\", \"10\", \"11\", \"12\"]],2)\n",
    "\n",
    "#OFF INVOICE concat OFF PREMISE & ON PREMISE\n",
    "off_invoice_data = pd.concat([off_invoice_data_OFP,off_invoice_data_ONP],axis=0,ignore_index=True)"
   ]
  },
  {
   "cell_type": "code",
   "execution_count": 63,
   "metadata": {
    "scrolled": true
   },
   "outputs": [],
   "source": [
    "#changing all CPLs into integers / first convert nans to 0\n",
    "off_invoice_data[\"cpl_no\"] = off_invoice_data.cpl_no.fillna(0).astype(int)\n",
    "\n",
    "#Specifiing the columns used\n",
    "off_invoice_codes = off_invoice_data[[\"cpl_no\",\"condition\",\"pack_type_no\",\"pack_size_no\",\"sales_unit_no\",\"item_category_no\",\"brand_no\",\"flavor_no\",\"1\", \"2\", \"3\", \"4\", \"5\", \"6\", \"7\", \"8\", \"9\", \"10\", \"11\", \"12\"]]\n",
    "\n",
    "#dropping the months I dont need\n",
    "off_invoice_months = off_invoice_codes.iloc[:,np.r_[0:8,(len(off_invoice_codes.columns)-months):len(off_invoice_codes.columns)]]\n",
    "\n",
    "#Dropping zeros QUESTIONABLE!!!!!\n",
    "off_invoice_zeros = off_invoice_months[(off_invoice_months.iloc[:,(-1*months):-1].sum(axis=1))>0]\n",
    "\n",
    "#Dropping duplicates\n",
    "off_invoice_duplicates = off_invoice_zeros.drop_duplicates(subset=off_invoice_zeros.columns, keep=\"first\")\n",
    "\n",
    "#Dropping duplicated characteristics\n",
    "added_months_off = off_invoice_duplicates.iloc[:,-months:]\n",
    "off_invoice_duplicates[\"SUM\"] = added_months_off.sum(axis=1)\n",
    "off_invoice_spirits = off_invoice_duplicates.sort_values(\"SUM\").drop_duplicates(subset=off_invoice_duplicates.columns[:8], keep=\"last\")\n",
    "\n",
    "#Dropping SUM\n",
    "off_invoice_final = off_invoice_spirits.drop(\"SUM\", axis=1)\n",
    "\n",
    "#repacing # with nans\n",
    "off_invoice_final = off_invoice_final.replace(\"#\",np.nan)"
   ]
  },
  {
   "cell_type": "markdown",
   "metadata": {},
   "source": [
    "### REGULAR CONDITIONS (off inv & on inv)\n",
    "Following will concat ON INVOICE and OFF INVOICE conditions, melt them in the right format, split them by country and export them as csv for the upload into the REVENU PLANNING System"
   ]
  },
  {
   "cell_type": "code",
   "execution_count": 64,
   "metadata": {},
   "outputs": [],
   "source": [
    "#concat\n",
    "regular = pd.concat([on_invoice_final, off_invoice_final], axis=0, ignore_index=True)\n",
    "\n",
    "#Applying adjust function on pack_size_no and sales_unit_no - incorrectly transformed into int and float, omitting 0, corrcting:\n",
    "regular['pack_size_no'] = regular.pack_size_no.apply(adjust)\n",
    "regular['sales_unit_no'] = regular.sales_unit_no.apply(adjust)\n",
    "\n",
    "#melting the data = unpivot + adjusting the formats, comma in the final format\n",
    "regular_melted = pd.melt(regular.iloc[:,:], id_vars=regular.columns[:8])\n",
    "regular_melted[\"cpl_no\"] = regular_melted.cpl_no.astype(str)\n",
    "regular_melted[\"value\"] = regular_melted.value.astype(str)\n",
    "regular_melted[\"value\"] = regular_melted[\"value\"].str.replace(\".\",\",\")"
   ]
  },
  {
   "cell_type": "code",
   "execution_count": 65,
   "metadata": {},
   "outputs": [],
   "source": [
    "#CZ SK split of melted data\n",
    "cz_regular_output = regular_melted[regular_melted[\"cpl_no\"].str.startswith(cz)]\n",
    "sk_regular_output = regular_melted[regular_melted[\"cpl_no\"].str.startswith(sk)]"
   ]
  },
  {
   "cell_type": "code",
   "execution_count": 66,
   "metadata": {},
   "outputs": [],
   "source": [
    "#To load file\n",
    "cz_regular_output.to_csv(\"cz_regular_load.txt\", sep='\\t', index=False)\n",
    "sk_regular_output.to_csv(\"sk_regular_load.txt\", sep='\\t', index=False)"
   ]
  },
  {
   "cell_type": "markdown",
   "metadata": {},
   "source": [
    "### PROMO Discount Transformation\n",
    "\n",
    "Following contains data transformation into an excel file that can be loaded into the system for the condition planning in Revenue Planning System"
   ]
  },
  {
   "cell_type": "code",
   "execution_count": 67,
   "metadata": {},
   "outputs": [],
   "source": [
    "#RENAMING columns, version according to SF, correct order of columns, % multiplied by 100\n",
    "promo_data_OFP.columns = [\"cpl_no\",\"pack_type_no\",\"pack_size_no\",\"sales_unit_no\",\"item_category_no\",\"brand_no\",\"flavor_no\",\"1_p\", \"2_p\", \"3_p\", \"4_p\", \"5_p\", \"6_p\", \"7_p\", \"8_p\", \"9_p\", \"10_p\", \"11_p\", \"12_p\", \"1_d\", \"2_d\", \"3_d\", \"4_d\", \"5_d\", \"6_d\", \"7_d\", \"8_d\", \"9_d\", \"10_d\", \"11_d\", \"12_d\"]\n",
    "promo_data_OFP[[\"1_p\", \"2_p\", \"3_p\", \"4_p\", \"5_p\", \"6_p\", \"7_p\", \"8_p\", \"9_p\", \"10_p\", \"11_p\", \"12_p\", \"1_d\", \"2_d\", \"3_d\", \"4_d\", \"5_d\", \"6_d\", \"7_d\", \"8_d\", \"9_d\", \"10_d\", \"11_d\", \"12_d\"]] = round(promo_data_OFP[[\"1_p\", \"2_p\", \"3_p\", \"4_p\", \"5_p\", \"6_p\", \"7_p\", \"8_p\", \"9_p\", \"10_p\", \"11_p\", \"12_p\", \"1_d\", \"2_d\", \"3_d\", \"4_d\", \"5_d\", \"6_d\", \"7_d\", \"8_d\", \"9_d\", \"10_d\", \"11_d\", \"12_d\"]]*100,2)\n",
    "\n",
    "#item cat to INT (no decimals), cpl_no to INT, replace # with nans\n",
    "promo_data_OFP[\"item_category_no\"] = promo_data_OFP.item_category_no.fillna(0).astype(int)\n",
    "promo_data_OFP[\"cpl_no\"] = promo_data_OFP.cpl_no.astype(int)\n",
    "promo_data_OFP[\"flavor_no\"] = promo_data_OFP.flavor_no.replace(\"#\", np.nan)\n",
    "\n",
    "#Applying adjust function on pack_size_no and sales_unit_no - incorrectly transformed into int and float, omitting 0, corrcting:\n",
    "promo_data_OFP['pack_size_no'] = promo_data_OFP.pack_size_no.apply(adjust)\n",
    "promo_data_OFP['sales_unit_no'] = promo_data_OFP.sales_unit_no.apply(adjust)\n",
    "\n",
    "#Dropping months not needed\n",
    "promo_months = promo_data_OFP.iloc[:,np.r_[0:7,(len(promo_data_OFP.columns)-(months+12)):(len(promo_data_OFP.columns)-12),(len(promo_data_OFP.columns)-(months)):(len(promo_data_OFP.columns))]]\n",
    "\n",
    "#Dropping rows that have only 0 values in the months I plan for\n",
    "promo_zeros = promo_months[(promo_months.iloc[:,(-1*months*3):(-1*months*2)].sum(axis=1)>0)&(promo_months.iloc[:,(-1*months*2):(-1*months)].sum(axis=1)>0)]\n",
    "\n",
    "#DROPPING DUPLICATES - all columns duplicated\n",
    "promo_duplicates = promo_zeros.drop_duplicates(subset=promo_zeros.columns, keep=\"first\")\n",
    "\n",
    "#addind index column full of nans\n",
    "promo_duplicates[\"index\"] = np.nan\n",
    "\n",
    "#rearranging the columns\n",
    "promo_final = promo_duplicates[[\"index\",\"cpl_no\",\"brand_no\",\"flavor_no\",\"item_category_no\",\"pack_type_no\",\"pack_size_no\",\"sales_unit_no\",\"1_p\", \"2_p\", \"3_p\", \"4_p\", \"5_p\", \"6_p\", \"7_p\", \"8_p\", \"9_p\", \"10_p\", \"11_p\", \"12_p\", \"1_d\", \"2_d\", \"3_d\", \"4_d\", \"5_d\", \"6_d\", \"7_d\", \"8_d\", \"9_d\", \"10_d\", \"11_d\", \"12_d\"]]"
   ]
  },
  {
   "cell_type": "code",
   "execution_count": 68,
   "metadata": {},
   "outputs": [],
   "source": [
    "#SPLITTING into two dfs -> 1. pressure, 2. depth - se it can be melted separately and then merged\n",
    "promo_final_p = promo_final.iloc[:,:-months]\n",
    "promo_final_d = promo_final.iloc[:,np.r_[0:8,(len(promo_final.columns)-months):len(promo_final.columns)]]\n",
    "\n",
    "#Renaming the columns\n",
    "promo_final_p = promo_final_p.rename(columns={\"1_p\":\"1\",\"2_p\":\"2\",'3_p':\"3\",'4_p':\"4\",'5_p':\"5\",'6_p':\"6\",'7_p':\"7\",'8_p':\"8\",'9_p':\"9\",'10_p':\"10\",'11_p':\"11\",'12_p':\"12\"})\n",
    "promo_final_d = promo_final_d.rename(columns={\"1_d\":\"1\",\"2_d\":\"2\",'3_d':\"3\",'4_d':\"4\",'5_d':\"5\",'6_d':\"6\",'7_d':\"7\",'8_d':\"8\",'9_d':\"9\",'10_d':\"10\",'11_d':\"11\",'12_d':\"12\"})"
   ]
  },
  {
   "cell_type": "code",
   "execution_count": 69,
   "metadata": {},
   "outputs": [],
   "source": [
    "#Melting the data (unpivotting) - separately p and d and then merging them, so I have desired output - month, p, d\n",
    "promo_p_melted = pd.melt(promo_final_p, id_vars=promo_final_p.columns[:8])\n",
    "promo_d_melted = pd.melt(promo_final_d, id_vars=promo_final_d.columns[:8])\n",
    "\n",
    "#OPRAVENO d a p p5ehoyeno, bylo naruby\n",
    "promo_melted = pd.merge(promo_d_melted, promo_p_melted, on=[\"index\",\"cpl_no\",\"brand_no\",\"flavor_no\",\"item_category_no\",\"pack_type_no\",\"pack_size_no\",\"sales_unit_no\",\"variable\"], how=\"left\")\n",
    "\n",
    "#Adjusting fromats of certain columns, replacing . with comma as planning system demands\n",
    "promo_melted[\"cpl_no\"] = promo_melted.cpl_no.astype(str)\n",
    "promo_melted[\"variable\"] = promo_melted.variable.astype(str)\n",
    "\n",
    "#dopln2no zne aby nebyly nuly\n",
    "#dropping zeros if there are yeros in either of the value - value_x (depth), value_y (pressure)\n",
    "promo_melted = promo_melted[(promo_melted[\"value_y\"]>0)]\n",
    "promo_melted = promo_melted[(promo_melted[\"value_x\"]>0)]\n",
    "\n",
    "#pressure adjustments\n",
    "promo_melted[\"value_x\"] = promo_melted.value_x.replace(np.nan,0)\n",
    "promo_melted[\"value_x\"] = promo_melted.value_x.astype(str)\n",
    "promo_melted[\"value_x\"] = promo_melted[\"value_x\"].str.replace(\".\",\",\")\n",
    "\n",
    "#depth adjustments\n",
    "promo_melted[\"value_y\"] = promo_melted.value_y.replace(np.nan,0)\n",
    "promo_melted[\"value_y\"] = promo_melted.value_y.astype(str)\n",
    "promo_melted[\"value_y\"] = promo_melted[\"value_y\"].str.replace(\".\",\",\")"
   ]
  },
  {
   "cell_type": "code",
   "execution_count": 70,
   "metadata": {},
   "outputs": [],
   "source": [
    "#CZ SK split of melted data\n",
    "cz_promo_output = promo_melted[promo_melted[\"cpl_no\"].str.startswith(cz)]\n",
    "sk_promo_output = promo_melted[promo_melted[\"cpl_no\"].str.startswith(sk)]"
   ]
  },
  {
   "cell_type": "code",
   "execution_count": 71,
   "metadata": {},
   "outputs": [],
   "source": [
    "cz_promo_output.to_csv(\"cz_promo_load.txt\", sep='\\t', index=False)\n",
    "sk_promo_output.to_csv(\"sk_promo_load.txt\", sep='\\t', index=False)"
   ]
  },
  {
   "cell_type": "markdown",
   "metadata": {},
   "source": [
    "### LUMP SUMS Discount Transformation\n",
    "\n",
    "Following contains data transformation into an excel file that can be loaded into the system for the condition planning in Marketing Planning System"
   ]
  },
  {
   "cell_type": "code",
   "execution_count": 72,
   "metadata": {},
   "outputs": [],
   "source": [
    "#PROMO LS renaming columns, choosing only correct \"year\" (version) & rearranging columns, changing formats of %\n",
    "promo_ls.columns = [\"version\",\"cpl_no\",\"pack_type_no\",\"pack_size_no\",\"sales_unit_no\",\"item_category_no\",\"brand_no\",\"flavor_no\", \"1\", \"2\", \"3\", \"4\", \"5\", \"6\", \"7\", \"8\", \"9\", \"10\", \"11\", \"12\"]\n",
    "#Filtering only corect version from SF\n",
    "promo_ls = promo_ls[promo_ls[\"version\"] == year]\n",
    "\n",
    "# #adding columns for index and condition\n",
    "# promo_ls['condition'] = conditions[\"promo_leaflet\"]\n",
    "# promo_ls[\"index\"] = np.nan"
   ]
  },
  {
   "cell_type": "code",
   "execution_count": 73,
   "metadata": {},
   "outputs": [],
   "source": [
    "#Rearragnging columns\n",
    "#promo_ls = promo_ls[['index',\"cpl_no\",'condition',\"item_category_no\",\"brand_no\",\"flavor_no\",\"pack_type_no\",\"pack_size_no\",\"sales_unit_no\",\"1\", \"2\", \"3\", \"4\", \"5\", \"6\", \"7\", \"8\", \"9\", \"10\", \"11\", \"12\"]]\n",
    "promo_ls[\"cpl_no\"] = promo_ls.cpl_no.astype(int)\n",
    "promo_ls[\"cpl_no\"] = promo_ls.cpl_no.astype(str)"
   ]
  },
  {
   "cell_type": "code",
   "execution_count": 74,
   "metadata": {},
   "outputs": [],
   "source": [
    "#CREATING THE AMOUNTS\n",
    "#Groupby\n",
    "promo_pregrouped = promo_ls[[\"cpl_no\",\"1\", \"2\", \"3\", \"4\", \"5\", \"6\", \"7\", \"8\", \"9\", \"10\", \"11\", \"12\"]]\n",
    "promo_ls_grouped = promo_pregrouped.groupby(\"cpl_no\").sum()\n",
    "promo_ls_grouped = promo_ls_grouped[promo_ls_grouped.iloc[:,-months:].sum(axis=1)>0]\n",
    "\n",
    "#index to column = po groupby it moves to index\n",
    "promo_ls_grouped.reset_index(inplace=True)\n",
    "\n",
    "#adding the condition and empty index\n",
    "promo_ls_grouped[\"condition\"] = conditions[\"promo_leaflet\"]\n",
    "promo_ls_grouped[\"index\"] = np.nan\n",
    "\n",
    "#Rearragning, datatype adjstmnt\n",
    "promo_ls_grouped = promo_ls_grouped[[\"index\",\"cpl_no\",\"condition\",\"1\",\"2\",\"3\",\"4\",\"5\",\"6\",\"7\",\"8\",\"9\",\"10\",\"11\",\"12\"]]\n",
    "promo_ls_grouped[[\"1\",\"2\",\"3\",\"4\",\"5\",\"6\",\"7\",\"8\",\"9\",\"10\",\"11\",\"12\"]] = promo_ls_grouped[[\"1\",\"2\",\"3\",\"4\",\"5\",\"6\",\"7\",\"8\",\"9\",\"10\",\"11\",\"12\"]].astype(int)\n"
   ]
  },
  {
   "cell_type": "code",
   "execution_count": 75,
   "metadata": {},
   "outputs": [],
   "source": [
    "#unpivot\n",
    "promo_ls_melted = pd.melt(promo_ls_grouped, id_vars=promo_ls_grouped.columns[:3])\n",
    "\n",
    "#exclude zeros in the output\n",
    "promo_ls_final = promo_ls_melted[promo_ls_melted[\"value\"]!=0]"
   ]
  },
  {
   "cell_type": "code",
   "execution_count": 76,
   "metadata": {},
   "outputs": [],
   "source": [
    "#CREATING THE ALOCATION RULES\n",
    "#USING THE LOOKUP - possible start with this and create alo first and then the amounts - simplified process\n",
    "promo_ls_alo = promo_ls[[\"cpl_no\",\"item_category_no\",\"brand_no\",\"flavor_no\",\"pack_type_no\",\"pack_size_no\",\"sales_unit_no\",\"1\", \"2\", \"3\", \"4\", \"5\", \"6\", \"7\", \"8\", \"9\", \"10\", \"11\", \"12\"]]\n",
    "promo_ls_alo[\"index\"] = np.nan\n",
    "promo_ls_alo[\"condition\"] = conditions[\"promo_leaflet\"]\n",
    "\n",
    "#Data straight form sheet data, so flavors are present, not #, necessary to replace by nans except for spirits\n",
    "promo_ls_alo.loc[(promo_ls_alo.item_category_no!=2145), \"flavor_no\"] = np.nan\n",
    "\n",
    "#Rearranging and dropping columns\n",
    "promo_ls_alo = promo_ls_alo[[\"index\",\"cpl_no\",\"condition\",\"item_category_no\",\"brand_no\",\"flavor_no\",\"pack_type_no\",\"pack_size_no\",\"sales_unit_no\",\"1\",\"2\",\"3\",\"4\",\"5\",\"6\",\"7\",\"8\",\"9\",\"10\",\"11\",\"12\"]]\n",
    "\n",
    "#only non zeros\n",
    "promo_ls_alo = promo_ls_alo[promo_ls_alo.iloc[:,-months:].sum(axis=1)>0]\n",
    "\n",
    "#adding the allocation rule\n",
    "promo_ls_alo[\"selection\"] = 1\n",
    "promo_ls_alo_final = promo_ls_alo[[\"index\",\"cpl_no\",\"condition\",\"item_category_no\",\"brand_no\",\"flavor_no\",\"pack_type_no\",\"pack_size_no\",\"sales_unit_no\",\"selection\"]]\n",
    "\n",
    "#item cat as a float\n",
    "promo_ls_alo_final[\"item_category_no\"] = promo_ls_alo_final.item_category_no.astype(int)\n",
    "\n",
    "#Applying adjust function on pack_size_no and sales_unit_no - incorrectly transformed into int and float, omitting 0, corrcting:\n",
    "promo_ls_alo_final['pack_size_no'] = promo_ls_alo_final.pack_size_no.apply(adjust)\n",
    "promo_ls_alo_final['sales_unit_no'] = promo_ls_alo_final.sales_unit_no.apply(adjust)\n",
    "\n",
    "#dropping duplicates\n",
    "promo_ls_alo_final = promo_ls_alo_final.drop_duplicates(subset=promo_ls_alo_final.columns,keep=\"first\")\n",
    "\n"
   ]
  },
  {
   "cell_type": "code",
   "execution_count": 77,
   "metadata": {},
   "outputs": [],
   "source": [
    "cz_promo_ls_output = promo_ls_final[promo_ls_final[\"cpl_no\"].str.startswith(cz)]\n",
    "sk_promo_ls_output = promo_ls_final[promo_ls_final[\"cpl_no\"].str.startswith(sk)]\n",
    "\n",
    "cz_promo_ls_alo_output = promo_ls_alo_final[promo_ls_alo_final[\"cpl_no\"].str.startswith(cz)]\n",
    "sk_promo_ls_alo_output = promo_ls_alo_final[promo_ls_alo_final[\"cpl_no\"].str.startswith(sk)]"
   ]
  },
  {
   "cell_type": "code",
   "execution_count": 78,
   "metadata": {},
   "outputs": [],
   "source": [
    "#exporting Pormo LS allocation rules\n",
    "cz_promo_ls_alo_output.to_csv(\"cz_promo_ls_alo_load.txt\", sep='\\t', index=False)\n",
    "sk_promo_ls_alo_output.to_csv(\"sk_promo_ls_alo_load.txt\", sep='\\t', index=False)\n",
    "\n",
    "#exporting Promo LS\n",
    "cz_promo_ls_output.to_csv(\"cz_promo_ls_load.txt\", sep='\\t', index=False)\n",
    "sk_promo_ls_output.to_csv(\"sk_promo_ls_load.txt\", sep='\\t', index=False)"
   ]
  },
  {
   "cell_type": "markdown",
   "metadata": {},
   "source": [
    "### CHECKS REGULAR Discounts\n",
    "What is missing, is the data MINT?\n",
    "\n",
    "add check for subzero values in reaw data - there should be none!\n",
    "\n",
    "check all the places where I use illc with months\n",
    "\n",
    "\n",
    "\n",
    "\n",
    "\n",
    "\n",
    "1. po natáhnutí bych u promo neměl mít ve sloupcích ´j-o nikde NA hodnoty - tzn dej mi hodnoty z promo_ls, kde jsou NAcka - musí být empty\n",
    "2. po natáhnutí bych nikde u on invoice alokace podle lookup adam neměl mít prázdné nebo NA hodnoty - dej mi regular final, filtrováno pro on invoice, kde jsou na\n",
    "3. regular final - podmínka, která bude mít on invoice %YDA (nevím) by neměla mít nikde NA u alokace\n",
    "4. testovat pro menší počet měsíců\n",
    "5. vyhodit celkovou sumu promo LS leafletů\n",
    "6. Vytáhnout záporné hodnoty slev\n",
    "\n",
    "\n"
   ]
  },
  {
   "cell_type": "code",
   "execution_count": null,
   "metadata": {},
   "outputs": [],
   "source": [
    "#testing if there is a wrong allocation of SAP codes - first couple of columns\n",
    "promo_test_1 = promo_data_OFP[(promo_data_OFP[] == \"#N/A\")\n",
    "                             or (promo_data_OFP[] == \"#NA\")\n",
    "                             or (promo_data_OFP[] == \"#NA\")\n",
    "                             or (promo_data_OFP[] == \"#NA\")\n",
    "                             or (promo_data_OFP[] == \"#NA\")]\n",
    "\n",
    "#testing if there are negative values in promo depth = wrong plannning of promo prices in the sim file\n",
    "promo_test_2 = promo_data_OFP[(promo_data_OFP[] < 0)\n",
    "                             or (promo_data_OFP[] < 0)\n",
    "                             or (promo_data_OFP[] < 0)\n",
    "                             or (promo_data_OFP[] < 0)\n",
    "                             or (promo_data_OFP[] < 0)]"
   ]
  },
  {
   "cell_type": "code",
   "execution_count": null,
   "metadata": {},
   "outputs": [],
   "source": [
    "#testing if there are negative values in on invoice discounts = wrong plannning of on invoice prices in the sim file\n",
    "promo_test_2 = promo_data_OFP[(promo_data_OFP[] < 0)\n",
    "                             or (promo_data_OFP[] < 0)\n",
    "                             or (promo_data_OFP[] < 0)\n",
    "                             or (promo_data_OFP[] < 0)\n",
    "                             or (promo_data_OFP[] < 0)]"
   ]
  },
  {
   "cell_type": "code",
   "execution_count": 13,
   "metadata": {},
   "outputs": [
    {
     "data": {
      "text/html": [
       "<div>\n",
       "<style scoped>\n",
       "    .dataframe tbody tr th:only-of-type {\n",
       "        vertical-align: middle;\n",
       "    }\n",
       "\n",
       "    .dataframe tbody tr th {\n",
       "        vertical-align: top;\n",
       "    }\n",
       "\n",
       "    .dataframe thead th {\n",
       "        text-align: right;\n",
       "    }\n",
       "</style>\n",
       "<table border=\"1\" class=\"dataframe\">\n",
       "  <thead>\n",
       "    <tr style=\"text-align: right;\">\n",
       "      <th></th>\n",
       "      <th>cpl_no</th>\n",
       "      <th>condition</th>\n",
       "      <th>pack_type_no</th>\n",
       "      <th>pack_size_no</th>\n",
       "      <th>sales_unit_no</th>\n",
       "      <th>item_category_no</th>\n",
       "      <th>brand_no</th>\n",
       "      <th>flavor_no</th>\n",
       "      <th>variable</th>\n",
       "      <th>value</th>\n",
       "    </tr>\n",
       "  </thead>\n",
       "  <tbody>\n",
       "    <tr>\n",
       "      <th>4197</th>\n",
       "      <td>199210</td>\n",
       "      <td>ZDA%</td>\n",
       "      <td>NaN</td>\n",
       "      <td>NaN</td>\n",
       "      <td>NaN</td>\n",
       "      <td>NaN</td>\n",
       "      <td>NaN</td>\n",
       "      <td>NaN</td>\n",
       "      <td>1</td>\n",
       "      <td>17,03</td>\n",
       "    </tr>\n",
       "    <tr>\n",
       "      <th>8419</th>\n",
       "      <td>199210</td>\n",
       "      <td>ZDA%</td>\n",
       "      <td>NaN</td>\n",
       "      <td>NaN</td>\n",
       "      <td>NaN</td>\n",
       "      <td>NaN</td>\n",
       "      <td>NaN</td>\n",
       "      <td>NaN</td>\n",
       "      <td>2</td>\n",
       "      <td>17,03</td>\n",
       "    </tr>\n",
       "    <tr>\n",
       "      <th>12641</th>\n",
       "      <td>199210</td>\n",
       "      <td>ZDA%</td>\n",
       "      <td>NaN</td>\n",
       "      <td>NaN</td>\n",
       "      <td>NaN</td>\n",
       "      <td>NaN</td>\n",
       "      <td>NaN</td>\n",
       "      <td>NaN</td>\n",
       "      <td>3</td>\n",
       "      <td>17,03</td>\n",
       "    </tr>\n",
       "    <tr>\n",
       "      <th>16863</th>\n",
       "      <td>199210</td>\n",
       "      <td>ZDA%</td>\n",
       "      <td>NaN</td>\n",
       "      <td>NaN</td>\n",
       "      <td>NaN</td>\n",
       "      <td>NaN</td>\n",
       "      <td>NaN</td>\n",
       "      <td>NaN</td>\n",
       "      <td>4</td>\n",
       "      <td>17,03</td>\n",
       "    </tr>\n",
       "    <tr>\n",
       "      <th>21085</th>\n",
       "      <td>199210</td>\n",
       "      <td>ZDA%</td>\n",
       "      <td>NaN</td>\n",
       "      <td>NaN</td>\n",
       "      <td>NaN</td>\n",
       "      <td>NaN</td>\n",
       "      <td>NaN</td>\n",
       "      <td>NaN</td>\n",
       "      <td>5</td>\n",
       "      <td>17,03</td>\n",
       "    </tr>\n",
       "    <tr>\n",
       "      <th>25307</th>\n",
       "      <td>199210</td>\n",
       "      <td>ZDA%</td>\n",
       "      <td>NaN</td>\n",
       "      <td>NaN</td>\n",
       "      <td>NaN</td>\n",
       "      <td>NaN</td>\n",
       "      <td>NaN</td>\n",
       "      <td>NaN</td>\n",
       "      <td>6</td>\n",
       "      <td>17,03</td>\n",
       "    </tr>\n",
       "    <tr>\n",
       "      <th>29529</th>\n",
       "      <td>199210</td>\n",
       "      <td>ZDA%</td>\n",
       "      <td>NaN</td>\n",
       "      <td>NaN</td>\n",
       "      <td>NaN</td>\n",
       "      <td>NaN</td>\n",
       "      <td>NaN</td>\n",
       "      <td>NaN</td>\n",
       "      <td>7</td>\n",
       "      <td>17,03</td>\n",
       "    </tr>\n",
       "    <tr>\n",
       "      <th>33751</th>\n",
       "      <td>199210</td>\n",
       "      <td>ZDA%</td>\n",
       "      <td>NaN</td>\n",
       "      <td>NaN</td>\n",
       "      <td>NaN</td>\n",
       "      <td>NaN</td>\n",
       "      <td>NaN</td>\n",
       "      <td>NaN</td>\n",
       "      <td>8</td>\n",
       "      <td>17,03</td>\n",
       "    </tr>\n",
       "    <tr>\n",
       "      <th>37973</th>\n",
       "      <td>199210</td>\n",
       "      <td>ZDA%</td>\n",
       "      <td>NaN</td>\n",
       "      <td>NaN</td>\n",
       "      <td>NaN</td>\n",
       "      <td>NaN</td>\n",
       "      <td>NaN</td>\n",
       "      <td>NaN</td>\n",
       "      <td>9</td>\n",
       "      <td>17,03</td>\n",
       "    </tr>\n",
       "    <tr>\n",
       "      <th>42195</th>\n",
       "      <td>199210</td>\n",
       "      <td>ZDA%</td>\n",
       "      <td>NaN</td>\n",
       "      <td>NaN</td>\n",
       "      <td>NaN</td>\n",
       "      <td>NaN</td>\n",
       "      <td>NaN</td>\n",
       "      <td>NaN</td>\n",
       "      <td>10</td>\n",
       "      <td>17,03</td>\n",
       "    </tr>\n",
       "    <tr>\n",
       "      <th>46417</th>\n",
       "      <td>199210</td>\n",
       "      <td>ZDA%</td>\n",
       "      <td>NaN</td>\n",
       "      <td>NaN</td>\n",
       "      <td>NaN</td>\n",
       "      <td>NaN</td>\n",
       "      <td>NaN</td>\n",
       "      <td>NaN</td>\n",
       "      <td>11</td>\n",
       "      <td>17,03</td>\n",
       "    </tr>\n",
       "    <tr>\n",
       "      <th>50639</th>\n",
       "      <td>199210</td>\n",
       "      <td>ZDA%</td>\n",
       "      <td>NaN</td>\n",
       "      <td>NaN</td>\n",
       "      <td>NaN</td>\n",
       "      <td>NaN</td>\n",
       "      <td>NaN</td>\n",
       "      <td>NaN</td>\n",
       "      <td>12</td>\n",
       "      <td>17,03</td>\n",
       "    </tr>\n",
       "  </tbody>\n",
       "</table>\n",
       "</div>"
      ],
      "text/plain": [
       "       cpl_no condition pack_type_no pack_size_no sales_unit_no  \\\n",
       "4197   199210      ZDA%          NaN          NaN           NaN   \n",
       "8419   199210      ZDA%          NaN          NaN           NaN   \n",
       "12641  199210      ZDA%          NaN          NaN           NaN   \n",
       "16863  199210      ZDA%          NaN          NaN           NaN   \n",
       "21085  199210      ZDA%          NaN          NaN           NaN   \n",
       "25307  199210      ZDA%          NaN          NaN           NaN   \n",
       "29529  199210      ZDA%          NaN          NaN           NaN   \n",
       "33751  199210      ZDA%          NaN          NaN           NaN   \n",
       "37973  199210      ZDA%          NaN          NaN           NaN   \n",
       "42195  199210      ZDA%          NaN          NaN           NaN   \n",
       "46417  199210      ZDA%          NaN          NaN           NaN   \n",
       "50639  199210      ZDA%          NaN          NaN           NaN   \n",
       "\n",
       "      item_category_no brand_no flavor_no variable  value  \n",
       "4197               NaN      NaN       NaN        1  17,03  \n",
       "8419               NaN      NaN       NaN        2  17,03  \n",
       "12641              NaN      NaN       NaN        3  17,03  \n",
       "16863              NaN      NaN       NaN        4  17,03  \n",
       "21085              NaN      NaN       NaN        5  17,03  \n",
       "25307              NaN      NaN       NaN        6  17,03  \n",
       "29529              NaN      NaN       NaN        7  17,03  \n",
       "33751              NaN      NaN       NaN        8  17,03  \n",
       "37973              NaN      NaN       NaN        9  17,03  \n",
       "42195              NaN      NaN       NaN       10  17,03  \n",
       "46417              NaN      NaN       NaN       11  17,03  \n",
       "50639              NaN      NaN       NaN       12  17,03  "
      ]
     },
     "execution_count": 13,
     "metadata": {},
     "output_type": "execute_result"
    }
   ],
   "source": [
    "#DOLADIT ROBUST TESTING\n",
    "#-are there values with NA?\n",
    "#-are there values that.....\n",
    "\n",
    "\n",
    "#Check --> code can be used to show ON IVOICES that didnt connect in lookup file\n",
    "test_1 = regular[(regular[\"condition\"]==\"YAA%\")&(regular[\"sales_unit_no\"].isnull())]\n",
    "test_on_invoice_OFP = on_invoice_data_merged[on_invoice_data_merged[\"sales_unit_no\"].isnull()]\n",
    "#test_on_invoice_ONP\n",
    "#test_certain CPL OFF INVOICE\n",
    "test_2 = regular[(regular[\"condition\"]==\"ZDA%\")\n",
    "                 &(regular[\"cpl_no\"]==199210)\n",
    "                 #&(regular[\"pack_size_no\"]!=conditions[\"1.75\"])\n",
    "                ]\n",
    "\n",
    "#test OFF INVOICE RAW data\n",
    "test_3 = off_invoice_data[(off_invoice_data[\"condition\"]==\"ZDA%\")\n",
    "                 &(off_invoice_data[\"cpl_no\"]==199210)\n",
    "                 #&(regular[\"pack_size_no\"]!=conditions[\"1.75\"])\n",
    "                ]\n",
    "\n",
    "test_4 = sk_regular_output[(sk_regular_output[\"condition\"]==\"ZDA%\")\n",
    "                 &(sk_regular_output[\"cpl_no\"]==\"199210\")\n",
    "                 #&(regular[\"pack_size_no\"]!=conditions[\"1.75\"])\n",
    "                ]\n",
    "test_4\n",
    "#sk_regular_output.info()\n"
   ]
  },
  {
   "cell_type": "markdown",
   "metadata": {},
   "source": [
    "\n",
    "\n",
    "### Zmeny oproti minule verzi\n",
    "\n",
    "1. smazan prvni radek v Pivot_Adam, abych mohl data rovnou stahovat\n",
    "2. document on premise - smazana data za Pressure - v pivot Ada\n",
    "3. ON Premise - Pivot Adam - Remove grand totals from the pivot\n",
    "\n",
    "### Kontrola\n",
    "1. jsou off premise nasobeny spravnym cislem aby dala procenta?"
   ]
  },
  {
   "cell_type": "code",
   "execution_count": 79,
   "metadata": {},
   "outputs": [
    {
     "data": {
      "text/html": [
       "<div>\n",
       "<style scoped>\n",
       "    .dataframe tbody tr th:only-of-type {\n",
       "        vertical-align: middle;\n",
       "    }\n",
       "\n",
       "    .dataframe tbody tr th {\n",
       "        vertical-align: top;\n",
       "    }\n",
       "\n",
       "    .dataframe thead th {\n",
       "        text-align: right;\n",
       "    }\n",
       "</style>\n",
       "<table border=\"1\" class=\"dataframe\">\n",
       "  <thead>\n",
       "    <tr style=\"text-align: right;\">\n",
       "      <th></th>\n",
       "      <th>cpl_no</th>\n",
       "      <th>condition</th>\n",
       "      <th>pack_type_no</th>\n",
       "      <th>pack_size_no</th>\n",
       "      <th>sales_unit_no</th>\n",
       "      <th>item_category_no</th>\n",
       "      <th>brand_no</th>\n",
       "      <th>flavor_no</th>\n",
       "      <th>variable</th>\n",
       "      <th>value</th>\n",
       "    </tr>\n",
       "  </thead>\n",
       "  <tbody>\n",
       "  </tbody>\n",
       "</table>\n",
       "</div>"
      ],
      "text/plain": [
       "Empty DataFrame\n",
       "Columns: [cpl_no, condition, pack_type_no, pack_size_no, sales_unit_no, item_category_no, brand_no, flavor_no, variable, value]\n",
       "Index: []"
      ]
     },
     "execution_count": 79,
     "metadata": {},
     "output_type": "execute_result"
    }
   ],
   "source": [
    "#shows duplicates / must be no duplicates - indicates mistake in simfiles\n",
    "sk_regular_output[sk_regular_output.duplicated(subset=cz_regular_output.columns[:9], keep=False)]"
   ]
  },
  {
   "cell_type": "code",
   "execution_count": null,
   "metadata": {},
   "outputs": [],
   "source": [
    "#nulov0 values v regular - ybavit se jich"
   ]
  },
  {
   "cell_type": "code",
   "execution_count": 80,
   "metadata": {},
   "outputs": [
    {
     "data": {
      "text/html": [
       "<div>\n",
       "<style scoped>\n",
       "    .dataframe tbody tr th:only-of-type {\n",
       "        vertical-align: middle;\n",
       "    }\n",
       "\n",
       "    .dataframe tbody tr th {\n",
       "        vertical-align: top;\n",
       "    }\n",
       "\n",
       "    .dataframe thead th {\n",
       "        text-align: right;\n",
       "    }\n",
       "</style>\n",
       "<table border=\"1\" class=\"dataframe\">\n",
       "  <thead>\n",
       "    <tr style=\"text-align: right;\">\n",
       "      <th></th>\n",
       "      <th>cpl_no</th>\n",
       "      <th>condition</th>\n",
       "      <th>pack_type_no</th>\n",
       "      <th>pack_size_no</th>\n",
       "      <th>sales_unit_no</th>\n",
       "      <th>item_category_no</th>\n",
       "      <th>brand_no</th>\n",
       "      <th>flavor_no</th>\n",
       "      <th>variable</th>\n",
       "      <th>value</th>\n",
       "    </tr>\n",
       "  </thead>\n",
       "  <tbody>\n",
       "  </tbody>\n",
       "</table>\n",
       "</div>"
      ],
      "text/plain": [
       "Empty DataFrame\n",
       "Columns: [cpl_no, condition, pack_type_no, pack_size_no, sales_unit_no, item_category_no, brand_no, flavor_no, variable, value]\n",
       "Index: []"
      ]
     },
     "execution_count": 80,
     "metadata": {},
     "output_type": "execute_result"
    }
   ],
   "source": [
    "cz_regular_output[cz_regular_output.duplicated(subset=cz_regular_output.columns[:9], keep=False)]"
   ]
  },
  {
   "cell_type": "code",
   "execution_count": null,
   "metadata": {},
   "outputs": [],
   "source": []
  }
 ],
 "metadata": {
  "kernelspec": {
   "display_name": "Python 3",
   "language": "python",
   "name": "python3"
  },
  "language_info": {
   "codemirror_mode": {
    "name": "ipython",
    "version": 3
   },
   "file_extension": ".py",
   "mimetype": "text/x-python",
   "name": "python",
   "nbconvert_exporter": "python",
   "pygments_lexer": "ipython3",
   "version": "3.7.6"
  }
 },
 "nbformat": 4,
 "nbformat_minor": 4
}
